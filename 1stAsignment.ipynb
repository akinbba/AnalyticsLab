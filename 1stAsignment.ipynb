{
  "nbformat": 4,
  "nbformat_minor": 0,
  "metadata": {
    "colab": {
      "name": "Untitled3.ipynb",
      "provenance": [],
      "authorship_tag": "ABX9TyN2khWFi5/hH5NGixaBsk8s",
      "include_colab_link": true
    },
    "kernelspec": {
      "name": "python3",
      "display_name": "Python 3"
    },
    "language_info": {
      "name": "python"
    }
  },
  "cells": [
    {
      "cell_type": "markdown",
      "metadata": {
        "id": "view-in-github",
        "colab_type": "text"
      },
      "source": [
        "<a href=\"https://colab.research.google.com/github/akinbba/AnalyticsLab/blob/main/1stAsignment.ipynb\" target=\"_parent\"><img src=\"https://colab.research.google.com/assets/colab-badge.svg\" alt=\"Open In Colab\"/></a>"
      ]
    },
    {
      "cell_type": "code",
      "metadata": {
        "id": "Nj_b-TKJsiOg"
      },
      "source": [
        "import pandas as pd\n",
        "import re\n",
        "from gensim.parsing.preprocessing import STOPWORDS, strip_tags, strip_numeric, strip_punctuation, strip_multiple_whitespaces, remove_stopwords, strip_short, stem_text\n",
        "import pickle\n",
        "import en_core_web_sm\n",
        "import nltk\n"
      ],
      "execution_count": 4,
      "outputs": []
    },
    {
      "cell_type": "code",
      "metadata": {
        "colab": {
          "base_uri": "https://localhost:8080/",
          "height": 130
        },
        "id": "ofSwhrW0uuox",
        "outputId": "f8658fc6-7e52-484e-a155-b512cdcc373c"
      },
      "source": [
        "import Run nltk.download('stopwords')\n",
        "from nltk.corpus import stopwords after g."
      ],
      "execution_count": 6,
      "outputs": [
        {
          "output_type": "error",
          "ename": "SyntaxError",
          "evalue": "ignored",
          "traceback": [
            "\u001b[0;36m  File \u001b[0;32m\"<ipython-input-6-246e724c8700>\"\u001b[0;36m, line \u001b[0;32m2\u001b[0m\n\u001b[0;31m    from nltk.corpus import stopwords after g.\u001b[0m\n\u001b[0m                                          ^\u001b[0m\n\u001b[0;31mSyntaxError\u001b[0m\u001b[0;31m:\u001b[0m invalid syntax\n"
          ]
        }
      ]
    },
    {
      "cell_type": "code",
      "metadata": {
        "id": "DVYSo5Ntvg-Q"
      },
      "source": [
        "# Read with panda’s read_json() function\n",
        "df = pd.read_json (\"https://raw.githubusercontent.com/selva86/datasets/master/newsgroups.json\")"
      ],
      "execution_count": 10,
      "outputs": []
    },
    {
      "cell_type": "code",
      "metadata": {
        "colab": {
          "base_uri": "https://localhost:8080/",
          "height": 204
        },
        "id": "MGXCZ5Qt2fHy",
        "outputId": "e6192504-8c0a-4610-a4de-3918527caa1e"
      },
      "source": [
        "# Print the head of df\n",
        "df.head()"
      ],
      "execution_count": 13,
      "outputs": [
        {
          "output_type": "execute_result",
          "data": {
            "text/html": [
              "<div>\n",
              "<style scoped>\n",
              "    .dataframe tbody tr th:only-of-type {\n",
              "        vertical-align: middle;\n",
              "    }\n",
              "\n",
              "    .dataframe tbody tr th {\n",
              "        vertical-align: top;\n",
              "    }\n",
              "\n",
              "    .dataframe thead th {\n",
              "        text-align: right;\n",
              "    }\n",
              "</style>\n",
              "<table border=\"1\" class=\"dataframe\">\n",
              "  <thead>\n",
              "    <tr style=\"text-align: right;\">\n",
              "      <th></th>\n",
              "      <th>content</th>\n",
              "      <th>target</th>\n",
              "      <th>target_names</th>\n",
              "    </tr>\n",
              "  </thead>\n",
              "  <tbody>\n",
              "    <tr>\n",
              "      <th>0</th>\n",
              "      <td>From: lerxst@wam.umd.edu (where's my thing)\\nS...</td>\n",
              "      <td>7</td>\n",
              "      <td>rec.autos</td>\n",
              "    </tr>\n",
              "    <tr>\n",
              "      <th>1</th>\n",
              "      <td>From: guykuo@carson.u.washington.edu (Guy Kuo)...</td>\n",
              "      <td>4</td>\n",
              "      <td>comp.sys.mac.hardware</td>\n",
              "    </tr>\n",
              "    <tr>\n",
              "      <th>2</th>\n",
              "      <td>From: twillis@ec.ecn.purdue.edu (Thomas E Will...</td>\n",
              "      <td>4</td>\n",
              "      <td>comp.sys.mac.hardware</td>\n",
              "    </tr>\n",
              "    <tr>\n",
              "      <th>3</th>\n",
              "      <td>From: jgreen@amber (Joe Green)\\nSubject: Re: W...</td>\n",
              "      <td>1</td>\n",
              "      <td>comp.graphics</td>\n",
              "    </tr>\n",
              "    <tr>\n",
              "      <th>4</th>\n",
              "      <td>From: jcm@head-cfa.harvard.edu (Jonathan McDow...</td>\n",
              "      <td>14</td>\n",
              "      <td>sci.space</td>\n",
              "    </tr>\n",
              "  </tbody>\n",
              "</table>\n",
              "</div>"
            ],
            "text/plain": [
              "                                             content  ...           target_names\n",
              "0  From: lerxst@wam.umd.edu (where's my thing)\\nS...  ...              rec.autos\n",
              "1  From: guykuo@carson.u.washington.edu (Guy Kuo)...  ...  comp.sys.mac.hardware\n",
              "2  From: twillis@ec.ecn.purdue.edu (Thomas E Will...  ...  comp.sys.mac.hardware\n",
              "3  From: jgreen@amber (Joe Green)\\nSubject: Re: W...  ...          comp.graphics\n",
              "4  From: jcm@head-cfa.harvard.edu (Jonathan McDow...  ...              sci.space\n",
              "\n",
              "[5 rows x 3 columns]"
            ]
          },
          "metadata": {
            "tags": []
          },
          "execution_count": 13
        }
      ]
    },
    {
      "cell_type": "code",
      "metadata": {
        "colab": {
          "base_uri": "https://localhost:8080/"
        },
        "id": "o_CH3sR32hdy",
        "outputId": "d75b0af5-f461-47d2-c6f4-96001aeb7caf"
      },
      "source": [
        "# What kind of data does it contain?    \n",
        "# How many entries does it have? \n",
        "# df.describe\n",
        "# df.info\n",
        "df.shape"
      ],
      "execution_count": 17,
      "outputs": [
        {
          "output_type": "execute_result",
          "data": {
            "text/plain": [
              "(11314, 3)"
            ]
          },
          "metadata": {
            "tags": []
          },
          "execution_count": 17
        }
      ]
    },
    {
      "cell_type": "code",
      "metadata": {
        "colab": {
          "base_uri": "https://localhost:8080/"
        },
        "id": "z_98xxJO3pHE",
        "outputId": "247c837a-9f77-4152-c687-14c01178ccf3"
      },
      "source": [
        "# Which categories can be found in the column target_names? \n",
        "# What is their distribution (e.g. with value_counts())? \n",
        "print(df['content'].value_counts(),\"\\n\",\"\\n\")\n",
        "print(df['target'].value_counts(),\"\\n\",\"\\n\")\n",
        "df['target_names'].value_counts()"
      ],
      "execution_count": 34,
      "outputs": [
        {
          "output_type": "stream",
          "text": [
            "From: dmittleman@misvms.bpa.arizona.edu (Daniel Mittleman)\\nSubject: Re: NDW Norton Desktop for Windows\\nOrganization: University of Arizona MIS Department\\nLines: 16\\nDistribution: world\\nNNTP-Posting-Host: misvms.bpa.arizona.edu\\nNews-Software: VAX/VMS VNEWS 1.41    \\n\\nIn article <1993Apr17.130528.2773@leland.Stanford.EDU>, shiva@leland.Stanford.EDU (Matt Jacobson) writes...\\n> \\n>I have an IBM and run Windows 3.1.  A friend installed Norton Desktop For\\n>Windows on top of this.  It loads automatically when I type \"win\", and\\n>surely adds to the (already dismally slow) process of starting up.\\n> \\n>I would like to know how to STOP or uninstall this program!!\\n>Is there anyone familiar with NDW who can tell me how to turn it off??\\n\\n    1. Get the friend to uninstall it.\\n    2. Read the manual (though from your post I infer that you are using\\n    pirated software.)\\n    3. Go into SYS.INI and change the SHELL= line to read SHELL=PROGMAN.EXE\\n\\n===========================================================================\\ndaniel david mittleman     -     danny@arizona.edu     -     (602) 621-2932\\n                                                                                                                                                                                                                                                                                                                                                                                                                                                                                                                                                                                                                                                                                                                                                                                                                                                                                                                                                                                                                                                                                                                                                                                                                                                                                                                                                                                                                                                                                                                                                                                                                                                                                                                                                                                                                                                                                                                                                                                                                                                                                                                                                                                                                                                                                                                                                                                                                                                                                                                                                                                                                                                                                       1\n",
            "From: joe@rider.cactus.org (Joe Senner)\\nSubject: Re: BMW MOA members read this!\\nReply-To: joe@rider.cactus.org\\nDistribution: world\\nOrganization: NOT\\nLines: 25\\n\\nvech@Ra.MsState.Edu (Craig A. Vechorik) writes:\\n]I wrote the slash two blues for a bit of humor which seems to be lacking\\n]in the MOA Owners News, when most of the stuff is \"I rode the the first\\n]day, I saw that, I rode there the second day, I saw this\" \\n\\nI admit it was a surprise to find something interesting to read in \\nthe most boring and worthless mag of all the ones I get.\\n\\n]any body out there know were the sense if humor went in people?\\n]I though I still had mine, but I dunno... \\n\\nI think most people see your intended humor, I do, I liked the article.\\nyou seem to forget that you've stepped into the political arena. as well\\nintentioned as you may intend something you're walking through a china\\nstore carrying that /2 on your head. everything you say or do says something\\nabout how you would represent the membership on any given day. you don't\\nhave to look far in american politics to see what a few light hearted\\njokes about one segment of the population can do to someone in the limelight.\\n\\nOBMoto: I did manage to squeak in a reference to a /2 ;-)\\n\\n-- \\nJoe Senner                                                joe@rider.cactus.org\\nAustin Area Ride Mailing List                            ride@rider.cactus.org\\nTexas SplatterFest Mailing List                          fest@rider.cactus.org\\n                                                                                                                                                                                                                                                                                                                                                                                                                                                                                                                                                                                                                                                                                                                                                                                                                                                                                                                                                                                                                                                                                                                                                                                                                                                                                                                                                                                                                                                                                                                                                                                                                                                                                                                                                                                                                                                                                                                                                                                                                                                                                                                                                                                                                                                                                         1\n",
            "From: geb@cs.pitt.edu (Gordon Banks)\\nSubject: Re: Blindsight\\nReply-To: geb@cs.pitt.edu (Gordon Banks)\\nOrganization: Univ. of Pittsburgh Computer Science\\nLines: 14\\n\\nIn article <1993Mar26.185117.21400@cs.rochester.edu> fulk@cs.rochester.edu (Mark Fulk) writes:\\n>In article <33587@castle.ed.ac.uk> hrvoje@castle.ed.ac.uk (H Hecimovic) writes:\\n>compensation?  Or are lesions localized to the SC too rare to be able\\n>to tell?\\n\\nExtremely rare in humans.  Usually so much else is involved you'd\\njust have a mess to sort out.  Birds do all vision in the tectum,\\ndon't they?  \\n\\n-- \\n----------------------------------------------------------------------------\\nGordon Banks  N3JXP      | \"Skepticism is the chastity of the intellect, and\\ngeb@cadre.dsl.pitt.edu   |  it is shameful to surrender it too soon.\" \\n----------------------------------------------------------------------------\\n                                                                                                                                                                                                                                                                                                                                                                                                                                                                                                                                                                                                                                                                                                                                                                                                                                                                                                                                                                                                                                                                                                                                                                                                                                                                                                                                                                                                                                                                                                                                                                                                                                                                                                                                                                                                                                                                                                                                                                                                                                                                                                                                                                                                                                                                                                                                                                                                                                                                                                                                                                                                                                                                                                                                                                                                                                                                                                                     1\n",
            "From: behanna@syl.nj.nec.com (Chris BeHanna)\\nSubject: Re: Wanted:  Advice on CB900 Custom purchase\\nKeywords: CB900, purchase\\nOrganization: NEC Systems Laboratory, Inc.\\nLines: 22\\n\\nIn article <1993Apr14.204821.8497@linus.mitre.org> cookson@mbunix.mitre.org (Cookson) writes:\\n>In article <93Apr14.185235.31833@acs.ucalgary.ca> parr@acs.ucalgary.ca (Charles Parr) writes:\\n>>My mechanic once commented that the 'dual range' transmission was\\n>>pure junk. One mans opinion...\\n>>\\n\\n\\tI had a friend in Pittsburgh who had a CB1000C with the dual-range\\ntranny on it.  He usually only used the \"economy\" range to get an overdrive\\nsixth gear out of it.  He had 59000 miles on it when it was stolen.  It was\\nrecovered shortly after that, repaired, and, for all I know, it's still going\\nstrong.\\n\\n\\tThe CB1000C was a shaft-driven overbore version of the CB900 and was\\nmade for exactly one year (yep, head and base gaskets are VERY expensive).\\nHelluva bike.\\n\\nA data point,\\n-- \\nChris BeHanna\\tDoD# 114          1983 H-D FXWG Wide Glide - Jubilee's Red Lady\\nbehanna@syl.nj.nec.com\\t          1975 CB360T - Baby Bike\\nDisclaimer:  Now why would NEC\\t  1991 ZX-11 - needs a name\\nagree with any of this anyway?    I was raised by a pack of wild corn dogs.\\n                                                                                                                                                                                                                                                                                                                                                                                                                                                                                                                                                                                                                                                                                                                                                                                                                                                                                                                                                                                                                                                                                                                                                                                                                                                                                                                                                                                                                                                                                                                                                                                                                                                                                                                                                                                                                                                                                                                                                                                                                                                                                                                                                                                                                                                                                                                                                                                                                                                                                                                                       1\n",
            "Subject: Re: JETS FANS!  Hrivnak or Tabaracci??\\nFrom: gtd597a@prism.gatech.EDU (Hrivnak)\\nOrganization: Georgia Institute of Technology\\nLines: 14\\n\\nIn article <1993Apr6.172313.29469@wam.umd.edu> giant@next14pg2.wam.umd.edu (Thundarr) writes:\\n>After seeing Hrivnak and Tabarraci play, who\\n>would you prefer to have?  And how about\\n>Tyler Larter?  What ever happened to him??\\n\\n\\tYou know what my answer will be: Hrivnak! The choice is obvious.\\n\\n\\n\\n-- \\nGO SKINS!    ||\"Now for the next question... Does emotional music have quite\\nGO BRAVES!   ||   an effect on you?\" - Mike Patton, Faith No More \\nGO HORNETS!  ||\\nGO CAPITALS! ||Mike Friedman (Hrivnak fan!) Internet: gtd597a@prism.gatech.edu\\n                                                                                                                                                                                                                                                                                                                                                                                                                                                                                                                                                                                                                                                                                                                                                                                                                                                                                                                                                                                                                                                                                                                                                                                                                                                                                                                                                                                                                                                                                                                                                                                                                                                                                                                                                                                                                                                                                                                                                                                                                                                                                                                                                                                                                                                                                                                                                                                                                                                                                                                                                                                                                                                                                                                                                                                                                                                                                                                                                                                                                                                                                                                   1\n",
            "                                                                                                                                                                                                                                                                                                                                                                                                                                                                                                                                                                                                                                                                                                                                                                                                                                                                                                                                                                                                                                                                                                                                                                                                                                                                                                                                                                                                                                                                                                                                                                                                                                                                                                                                                                                                                                                                                                                                                                                                                                                                                                                                                                                                                                                                                                                                                                                                                                                                                                                                                                                                                                                                                                                                                                                                                                                                                                                                                                                                                                                                                                                                                                                                                                                                                                                                                                                                                                                                                                                                                                                                                                                                                                                                                                                                                                                   ..\n",
            "From: f0975893@jaguar.csc.wsu.edu\\nSubject: Re: Educational Pricing\\nArticle-I.D.: jaguar.1993Apr15.134938.1\\nOrganization: Washington State University\\nLines: 27\\n\\nIn article <C5Iz7n.Kyv@cs.dal.ca>, hayes@ug.cs.dal.ca (Kevin B. Hayes) writes:\\n>>you can find retail that is within the price of a keyboard of educational\\n>>prices. \\n\\nI would be very wary of retail outlets selling as cheap as educational prices!\\nI went for a retailer, actually mail order (CDA computers), because its price\\nwas better thant the campus computer store. I found out why later on when I\\ntried to get a repair done at an Apple registered repair center - the CPU was a\\nresale. The serial number had been removed and replaced with a non-standard\\nnumber (probably from CDA computers). Consequently, the Apple repair man could\\nnot do ANY warrenty repairs. So I ended up with just a 90day warrenty from CDA\\nover the Apple 12month warrenty. Boy, was I pi**ed! Moral of the story, CAVEAT\\nEMPTOR.\\n\\nHowever, if you go with a reliable, trustworthy mail order firm (if they exist\\n- maybe someone could enlighten us with their experiences), you will probably\\nget a better price than your local educational outlet simply because mail order\\nout of state does not REQUIRE sales tax yet. Though for how much longer remains\\nto be seen. The addition in sales tax on a CPU purchase will probably wipe out\\nan educational discount. Again CAVEAT EMPTOR, some mail order companies DO\\ninclude sales tax on purchases even if they are out of state, so check!\\n\\nRichard.\\n \\\\\\\\/  Richard J Appleyard  f0975893@jaguar.csc.wsu.edu\\n /o o\\  Washington State University  \\n(   ) ) Voice (509) 335-7728  Fax (509) 335-9688 \\n \\_o_/  \"To err is human, but to really screw things up takes a computer!\"\\n                                                                                                                                                                                                                                                                                                                                                                                                                                                                                                                                                                                                                                                                                                                                                                                                                                                                                                                                                                                                                                                                                                                                                                                                                                                                                                                                                                                                                                                                                                                                                                                                                                                                                                                                                                                                                                                                                                                                                                                                            1\n",
            "From: Borut.B.Lavrencic@ijs.si\\nSubject: Re: The [secret] source of that announcement\\nReply-To: Borut.B.Lavrencic@ijs.si\\nDistribution: inet\\nOrganization: J. Stefan Institute, Lj, Slovenia\\nLines: 61\\n\\nIn article <gradyC5unp0.D21@netcom.com>, \\ngrady@netcom.com (1016/2EF221) writes:\\n> Andrew Molitor (amolitor@nmsu.edu) wrote:\\n> : \\n> : \\t1) Monitor my phonecalls.\\n> : \\t2) Monitor usenet.\\n> : \\t3) Provide only cryptosystems they can easily crack.\\n> : \\t4) etc etc.\\n> : \\n> : \\tThis is not to say that they *don't*, they might. But you don't\\n> : know that they do, and you have no evidence that they do, for almost\\n> : all values of you. It follows, therefore, that for most values of 'you',\\n> : your claims about the NSA border on paranoia.\\n> : \\n> : \\tAndrew\\n\\n.....\\n.....\\n.....\\n\\n> \\n> Or maybe the Germans should have been a little more 'paranoid' about\\n> their Engima with respect to Turing and the British.\\n> \\n> How about the cracking of the Zimmerman telegram?  Would a little\\n> more paranoia have helped the Germans here?\\n> \\n> Maybe the NSA should have been a little more 'paranoid' about\\n> Emma Woikin, or Joseph Sidney Petersen, Jr., or  ...\\n> \\n> Maybe you want to talk about Macmillan publishers cooperation\\n> with the CIA and NSA to suppress Yardley's Japanese Diplomatic\\n> Secrets or even Kahn's The Codebreakers.. paranoia, right?\\n> \\n> The most popular cipher systems in captured soviet spies was\\n> the one-time pad, even with the necessity of keeping incriminating\\n> evidence about, is known to be the only proven unbreakable system.\\n> Soviet paranoia, right?\\n> \\n> And what do you think the NSA does with its Wullenwebers?  And \\n> huge Rhombics pointed embassy row?  And their sites near\\n> satellite uplink and downlink sites?  Duh.\\n> \\n.....  \\n> -- \\n> grady@netcom.com  2EF221 / 15 E2 AD D3 D1 C6 F3 FC  58 AC F7 3D 4F 01 1E 2F\\n>\\n\\nOne case of Slovenian paranoia.\\n\\nOnce upon a time a tried to walk over the (famous) Marathon field, not far away \\nfrom Athens. I could not do that mostly becouse the field is now a huge \\nantenna farm. Probably a Greek COMINT installation, would you agree? \\n-- \\nBorut B. Lavrencic, D.Sc.     | X.400   :C=si;A=mail;P=ac;O=ijs;S=lavrencic\\nJ. Stefan Institute           | Internet:Borut.B.Lavrencic@ijs.si\\nUniversity of Ljubljana,      | Phone   :+ 386 1 159 199\\nSI-61111 Ljubljana, Slovenia  |\\t    PGP Public Key available on request\\n\\nDOLGO SMOIS KALIS OVRAZ NIKEI NJIHK OCNOO DKRIL IVSEB IPIKA\\n\\n                                                                                                                                                                                                                                                                                                                                                                                                                                                                                                                                                                                                                                                                                                                                                                                                                                                                                                                                                                                                                                                                                                                                                                                                                                                1\n",
            "From: syck5280@miller.cs.uwm.edu (Steven B Syck)\\nSubject: Re: Don't knock the Glock (was Re: My Gun is like my Am Ex Card)\\nOrganization: University of Wisconsin, Milwaukee\\nLines: 61\\nDistribution: usa\\nNNTP-Posting-Host: 129.89.9.13\\n\\nIn article <93105.164406U28037@uicvm.uic.edu> Jason Kratz <U28037@uicvm.uic.edu> writes:\\n>\\n>All very true.  I'm going on what I have read and heard from friends.\\n>Basically the Glock is great but I have heard/read that it is a lot harder to\\n>learn proper handling because of the type of safety that it has.  I was\\n>looking at a Glock .40S&W and the S&W 4006 a couple of weeks ago and the\\n>safties on the guns were very different.  The saftey on the 4006 seemed a lot\\n>more \"safe\"  (for lack of a better word) than the one on the Glock.  Of course\\n>this could also be a bad thing if you were to pull the gun on somebody.  You\\n>would spend more time fiddling around turning the safety off.  Personally I\\n>like the Glocks because they are very light and I think they look really cool\\n>(guess that's why they use them in so many movies) but I wouldn't get one as\\n>my first semi-auto because of the safety.  I would prefer more training with\\n>a \"traditional\" semi-auto (ala Colt .45) but of course that's just my opinion.\\n>\\n>Jason\\n\\n\\tAt the risk of starting the 'my gun is better than yours' flame\\nwar, I must disagree.\\n\\t\\n\\tThere is no secret in handling a Glock.  In fact, it is often\\nchosen (besides its other merits) because it shoots like a revolver does\\nbasically.  It can limit the training time (read budget $$$) due to the\\nfact there are no 'external' safties other than the trigger, hence less\\ntraining time required. \\n\\n\\tSmith & Wesson (among other types) are chosen due to the fact taht\\nthey do have the external safties (hammer drop,as well as mag drop) which\\nif properly used have saved many lives when 'Mr. Bad' snatched the gun\\nfrom the officer and tried to shoot said officer the gun was on safe and\\nwould not fire.  This point had been made in many articles in various \\ngun magazines.  If fact, one author (can't remember who) staged a little\\ntest where he had a revolver and a S&W on safe laying on a table and asked\\npeople with little firearms experience to on his signal, grab the gun and\\nshoot a target.  He timed the people using each gun.  The revolver times\\nwere pretty close, but some of the times with the S&W were in minutes, or\\nthe person just gave up because they could not figure out the saftey.\\n\\n\\tYou don't often see Colt 45 autos issued due to the light trigger\\nwhich can be accidentally fired in a stress situation, opening the issuing\\ncity,county, etc.. to lawsuits, bad press, etc..\\n\\n\\tOf course any problem can be overcome with enough training, but\\nsuch training is not always available to budget crunched departments.  I\\nknow if I were a Cop I would want something like a S&W just for the off\\nchance of the gun getting taken away.  The safety doesn't guarantee that\\n'Mr. Bad' won't figure it out and shoot me, but it could buy enough time\\nto draw a second gun and shoot 'Mr. Bad' before it's too late.\\n\\n\\tDon't think I am too biassed here just because I have had 3 Glocks\\nin my possession at one time, because I have had a .45 as well.  In fact,\\nit was my first handgun.  Remember, the ultimate 'safety' is YOU the\\noperator, and no safety is going to stop an negligent discharge (note I\\ndon't say accidental) if you break the rules of gun handling.\\n\\n\\tAs per the part of being light weight and looking cool, I agree\\n100%.  I wouldn't rule it out as a first purchase.  \\n\\n-Just my $.02 + tax\\n-------   Steve Syck        syck5280@miller.cs.uwm.edu        --------\\n\\n    1\n",
            "From: jessea@u013.me.vp.com (Jesse W. Asher)\\nSubject: X version of whois??\\nOrganization: Varco-Pruden Buildings\\nLines: 8\\n\\nHas an X version of whois been written out there?  If so, where can I ftp it\\nfrom?  Thanks.\\n\\n-- \\n      Jesse W. Asher                                          (901)762-6000\\n                             Varco-Pruden Buildings\\n                 6000 Poplar Ave., Suite 400, Memphis, TN  38119\\n    Internet: jessea@vpbuild.vp.com                   UUCP: vpbuild!jessea\\n                                                                                                                                                                                                                                                                                                                                                                                                                                                                                                                                                                                                                                                                                                                                                                                                                                                                                                                                                                                                                                                                                                                                                                                                                                                                                                                                                                                                                                                                                                                                                                                                                                                                                                                                                                                                                                                                                                                                                                                                                                                                                                                                                                                                                                                                                                                                                                                                                                                                                                                                                                                                                                                                                                                                                                                                                                                                                                                                                                                                                                                                                                                                                                                                                                                                                                                                1\n",
            "From: rgolder@hoh.mbl.edu (Robert Golder)\\nSubject: Re: Pantheism & Environmentalism\\nOrganization: Marine Biological Laboratory\\nLines: 39\\n\\nIn article <Apr.13.00.08.04.1993.28376@athos.rutgers.edu>, \\nmcovingt@aisun3.ai.uga.edu (Michael Covington) writes:\\n> \\n> In article <Apr.12.03.44.17.1993.18833@athos.rutgers.edu> \\nheath@athena.cs.uga.edu (Terrance Heath) writes:\\n> >\\n> >\\tI realize I'm entering this discussion rather late, but I do\\n> >have one question. Wasn't it a Reagan appointee, James Watt, a\\n> >pentacostal christian (I think) who was the secretary of the interior\\n> >who saw no problem with deforestation since we were \"living in the\\n> >last days\" and ours would be the last generation to see the redwoods\\n> >anyway?\\n> \\n> I heard the same thing, but without confirmation that he actually said it.\\n> It was just as alarming to us as to you; the Bible says that nobody knows\\n> when the second coming will take place.\\n> \\n> -- \\n> :-  Michael A. Covington\\n\\nI do recall Watt making a comment to this effect, though it was quite a few\\nyears back and I can't cite the specifics.  I also recall that Cecil Andrus, who\\nwas Secretary of the Interior during the Carter Administration, responded\\nto Watt's comments by pointing out the stewardship role that God gave\\nto man, as recorded in Genesis.  Which makes me wonder: who are the\\ntrue conservatives?  It seems to me that a *conservative* should want to\\n*conserve* things of value for long-term societal benefit.  This form of\\n*conservation* should logically extend to the physical environment in \\nwhich people live, as well as the moral environment in which they relate\\nto one another and to God.\\n\\nIMHO, Watt's stewardship status is not enhanced by the fact that he served \\non the board of directors for Jim Bakker's organization, during a time in \\nwhich Bakker committed criminal acts which eventually landed Bakker \\nin federal prison.\\n\\nBob\\nrgolder@hoh.mbl.edu\\nJust another Baptist...\\n                                                                                                                                                                                                                                                                                                                                                                                                                                                                                                                                                                                                                                                                                                                                                                                                                                                                                                                                                                                                                                                                                                                                                                                                                                                                                                                                                                                                                                                                                                                                                                                                                                                                                                                                                                                      1\n",
            "Name: content, Length: 11314, dtype: int64 \n",
            " \n",
            "\n",
            "10    600\n",
            "15    599\n",
            "8     598\n",
            "9     597\n",
            "11    595\n",
            "13    594\n",
            "7     594\n",
            "14    593\n",
            "5     593\n",
            "12    591\n",
            "2     591\n",
            "3     590\n",
            "6     585\n",
            "1     584\n",
            "4     578\n",
            "17    564\n",
            "16    546\n",
            "0     480\n",
            "18    465\n",
            "19    377\n",
            "Name: target, dtype: int64 \n",
            " \n",
            "\n"
          ],
          "name": "stdout"
        },
        {
          "output_type": "execute_result",
          "data": {
            "text/plain": [
              "rec.sport.hockey            600\n",
              "soc.religion.christian      599\n",
              "rec.motorcycles             598\n",
              "rec.sport.baseball          597\n",
              "sci.crypt                   595\n",
              "sci.med                     594\n",
              "rec.autos                   594\n",
              "comp.windows.x              593\n",
              "sci.space                   593\n",
              "comp.os.ms-windows.misc     591\n",
              "sci.electronics             591\n",
              "comp.sys.ibm.pc.hardware    590\n",
              "misc.forsale                585\n",
              "comp.graphics               584\n",
              "comp.sys.mac.hardware       578\n",
              "talk.politics.mideast       564\n",
              "talk.politics.guns          546\n",
              "alt.atheism                 480\n",
              "talk.politics.misc          465\n",
              "talk.religion.misc          377\n",
              "Name: target_names, dtype: int64"
            ]
          },
          "metadata": {
            "tags": []
          },
          "execution_count": 34
        }
      ]
    },
    {
      "cell_type": "code",
      "metadata": {
        "colab": {
          "base_uri": "https://localhost:8080/",
          "height": 103
        },
        "id": "NqdRb7Fi57ox",
        "outputId": "305c6726-eff3-48c0-caea-5a5e77bf6b9d"
      },
      "source": [
        "# Print the first content value. \n",
        "df['content'].iloc[0]\n",
        "# Does it match the target name?    YES\n",
        "# Which business question can this dataset address?  "
      ],
      "execution_count": 40,
      "outputs": [
        {
          "output_type": "execute_result",
          "data": {
            "application/vnd.google.colaboratory.intrinsic+json": {
              "type": "string"
            },
            "text/plain": [
              "\"From: lerxst@wam.umd.edu (where's my thing)\\nSubject: WHAT car is this!?\\nNntp-Posting-Host: rac3.wam.umd.edu\\nOrganization: University of Maryland, College Park\\nLines: 15\\n\\n I was wondering if anyone out there could enlighten me on this car I saw\\nthe other day. It was a 2-door sports car, looked to be from the late 60s/\\nearly 70s. It was called a Bricklin. The doors were really small. In addition,\\nthe front bumper was separate from the rest of the body. This is \\nall I know. If anyone can tellme a model name, engine specs, years\\nof production, where this car is made, history, or whatever info you\\nhave on this funky looking car, please e-mail.\\n\\nThanks,\\n- IL\\n   ---- brought to you by your neighborhood Lerxst ----\\n\\n\\n\\n\\n\""
            ]
          },
          "metadata": {
            "tags": []
          },
          "execution_count": 40
        }
      ]
    },
    {
      "cell_type": "code",
      "metadata": {
        "id": "vL4uzWr57U_T"
      },
      "source": [
        "# Remove the lines beginning with any of the following: \n",
        "# ‘From:’, ‘Article-I.D.:’, ‘Organization:’, ‘Lines:’, ‘NNTP-Posting-Host:’, ‘Distribution:’, ‘Reply-To:’, ‘X-Newsreader:’, ‘Expires:’, multiples (also one) of ‘-‘ preceded by space using the package re. \n",
        "\n",
        "# Remove additionally any of the words ‘Subject:’, ‘Summary:’ or ‘Keywords:’. \n",
        "\n",
        "# Both removals should be case insensitive. Call the new object data which is your corpus and display the first entry. \n",
        "\n",
        "# Why are we doing this?"
      ],
      "execution_count": null,
      "outputs": []
    }
  ]
}
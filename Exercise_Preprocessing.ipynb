{
  "nbformat": 4,
  "nbformat_minor": 0,
  "metadata": {
    "colab": {
      "name": "Exercise_Preprocessing.ipynb",
      "provenance": [],
      "collapsed_sections": [],
      "include_colab_link": true
    },
    "kernelspec": {
      "name": "python3",
      "display_name": "Python 3"
    },
    "language_info": {
      "name": "python"
    }
  },
  "cells": [
    {
      "cell_type": "markdown",
      "metadata": {
        "id": "view-in-github",
        "colab_type": "text"
      },
      "source": [
        "<a href=\"https://colab.research.google.com/github/akinbba/AnalyticsLab/blob/main/Exercise_Preprocessing.ipynb\" target=\"_parent\"><img src=\"https://colab.research.google.com/assets/colab-badge.svg\" alt=\"Open In Colab\"/></a>"
      ]
    },
    {
      "cell_type": "code",
      "metadata": {
        "id": "Nj_b-TKJsiOg",
        "colab": {
          "base_uri": "https://localhost:8080/"
        },
        "outputId": "8b9b7792-43ec-40e2-ce67-8e60e9c26f28"
      },
      "source": [
        "import pandas as pd\n",
        "import re\n",
        "from gensim.parsing.preprocessing import STOPWORDS, strip_tags, strip_numeric, strip_punctuation, strip_multiple_whitespaces, remove_stopwords, strip_short, stem_text\n",
        "import pickle\n",
        "import en_core_web_sm\n",
        "import nltk\n",
        "nltk.download('stopwords')"
      ],
      "execution_count": null,
      "outputs": [
        {
          "output_type": "stream",
          "text": [
            "[nltk_data] Downloading package stopwords to /root/nltk_data...\n",
            "[nltk_data]   Package stopwords is already up-to-date!\n"
          ],
          "name": "stdout"
        },
        {
          "output_type": "execute_result",
          "data": {
            "text/plain": [
              "True"
            ]
          },
          "metadata": {
            "tags": []
          },
          "execution_count": 54
        }
      ]
    },
    {
      "cell_type": "code",
      "metadata": {
        "id": "ofSwhrW0uuox"
      },
      "source": [
        "from nltk.corpus import stopwords"
      ],
      "execution_count": null,
      "outputs": []
    },
    {
      "cell_type": "code",
      "metadata": {
        "id": "DVYSo5Ntvg-Q"
      },
      "source": [
        "# Read with panda’s read_json() function\n",
        "df = pd.read_json (\"https://raw.githubusercontent.com/selva86/datasets/master/newsgroups.json\")"
      ],
      "execution_count": null,
      "outputs": []
    },
    {
      "cell_type": "code",
      "metadata": {
        "colab": {
          "base_uri": "https://localhost:8080/",
          "height": 204
        },
        "id": "MGXCZ5Qt2fHy",
        "outputId": "7204ebd5-cc57-4850-a9af-c7c8d3501ea3"
      },
      "source": [
        "# Print the head of df\n",
        "df.head()"
      ],
      "execution_count": null,
      "outputs": [
        {
          "output_type": "execute_result",
          "data": {
            "text/html": [
              "<div>\n",
              "<style scoped>\n",
              "    .dataframe tbody tr th:only-of-type {\n",
              "        vertical-align: middle;\n",
              "    }\n",
              "\n",
              "    .dataframe tbody tr th {\n",
              "        vertical-align: top;\n",
              "    }\n",
              "\n",
              "    .dataframe thead th {\n",
              "        text-align: right;\n",
              "    }\n",
              "</style>\n",
              "<table border=\"1\" class=\"dataframe\">\n",
              "  <thead>\n",
              "    <tr style=\"text-align: right;\">\n",
              "      <th></th>\n",
              "      <th>content</th>\n",
              "      <th>target</th>\n",
              "      <th>target_names</th>\n",
              "    </tr>\n",
              "  </thead>\n",
              "  <tbody>\n",
              "    <tr>\n",
              "      <th>0</th>\n",
              "      <td>From: lerxst@wam.umd.edu (where's my thing)\\nS...</td>\n",
              "      <td>7</td>\n",
              "      <td>rec.autos</td>\n",
              "    </tr>\n",
              "    <tr>\n",
              "      <th>1</th>\n",
              "      <td>From: guykuo@carson.u.washington.edu (Guy Kuo)...</td>\n",
              "      <td>4</td>\n",
              "      <td>comp.sys.mac.hardware</td>\n",
              "    </tr>\n",
              "    <tr>\n",
              "      <th>2</th>\n",
              "      <td>From: twillis@ec.ecn.purdue.edu (Thomas E Will...</td>\n",
              "      <td>4</td>\n",
              "      <td>comp.sys.mac.hardware</td>\n",
              "    </tr>\n",
              "    <tr>\n",
              "      <th>3</th>\n",
              "      <td>From: jgreen@amber (Joe Green)\\nSubject: Re: W...</td>\n",
              "      <td>1</td>\n",
              "      <td>comp.graphics</td>\n",
              "    </tr>\n",
              "    <tr>\n",
              "      <th>4</th>\n",
              "      <td>From: jcm@head-cfa.harvard.edu (Jonathan McDow...</td>\n",
              "      <td>14</td>\n",
              "      <td>sci.space</td>\n",
              "    </tr>\n",
              "  </tbody>\n",
              "</table>\n",
              "</div>"
            ],
            "text/plain": [
              "                                             content  ...           target_names\n",
              "0  From: lerxst@wam.umd.edu (where's my thing)\\nS...  ...              rec.autos\n",
              "1  From: guykuo@carson.u.washington.edu (Guy Kuo)...  ...  comp.sys.mac.hardware\n",
              "2  From: twillis@ec.ecn.purdue.edu (Thomas E Will...  ...  comp.sys.mac.hardware\n",
              "3  From: jgreen@amber (Joe Green)\\nSubject: Re: W...  ...          comp.graphics\n",
              "4  From: jcm@head-cfa.harvard.edu (Jonathan McDow...  ...              sci.space\n",
              "\n",
              "[5 rows x 3 columns]"
            ]
          },
          "metadata": {
            "tags": []
          },
          "execution_count": 57
        }
      ]
    },
    {
      "cell_type": "code",
      "metadata": {
        "colab": {
          "base_uri": "https://localhost:8080/"
        },
        "id": "o_CH3sR32hdy",
        "outputId": "bba1faf1-3d70-48b0-a260-64f0f896b4ac"
      },
      "source": [
        "# What kind of data does it contain?    \n",
        "# How many entries does it have? \n",
        "# df.describe\n",
        "# df.info\n",
        "df.shape"
      ],
      "execution_count": null,
      "outputs": [
        {
          "output_type": "execute_result",
          "data": {
            "text/plain": [
              "(11314, 3)"
            ]
          },
          "metadata": {
            "tags": []
          },
          "execution_count": 58
        }
      ]
    },
    {
      "cell_type": "code",
      "metadata": {
        "colab": {
          "base_uri": "https://localhost:8080/"
        },
        "id": "z_98xxJO3pHE",
        "outputId": "3497eaa1-3262-4b38-89da-239b9f8618bf"
      },
      "source": [
        "# Which categories can be found in the column target_names? \n",
        "# What is their distribution (e.g. with value_counts())? \n",
        "print(df['content'].value_counts(),\"\\n\",\"\\n\")\n",
        "print(df['target'].value_counts(),\"\\n\",\"\\n\")\n",
        "df['target_names'].value_counts()"
      ],
      "execution_count": null,
      "outputs": [
        {
          "output_type": "stream",
          "text": [
            "Organization: The American University - University Computing Center\\nFrom: <BR4416A@auvm.american.edu>\\nSubject: $$$ to fix TRACKBALL\\nLines: 11\\n\\nThe trackbal on my PB140 no longer moves in the horizontal direction.  When I\\ncalled the nearest Authorized Apple Service person I was told that it probably\\nneeded replacing and that would cost me over $150!  Ouch!\\n  Can anyone recommend a less expensive way to fix this problem?  One strange\\nsymptom of the problem is that when I take the ball out of the socket and shine\\na light into the hole I can make the cursor move horizontally by moving the\\nwheel with my finger, it works fine that way but won't work if I turn off the\\nlight.  Any suggestions or comments?\\n-------------------------------------------------------------------------------\\nBen Roy .......just a poor college student.......internet<br4416a@american.edu>\\n-------------------------------------------------------------------------------\\n                                                                                                                                                                                                                                                                                                                                                                                                                                                                                                                                                                                                                                                                                                                                                                                                                                                                                                                                                                                                                                                                                                                                                                                                                                                                                                                                                                                                                                                                                                                                                                                                                                                                                                                                                                                                                                                                                                                                                                                                                                                                                                                                                                                                                                                                                                                                                                                                                                                                                                                                                                                                                                                                                                                                                                                                                                                                                                                                                                                                                                                                                                                                                                                                                                                                                                                                                                                                                                                                                                                                                                                                                                                                                                                                                                                                                                                                                                                                                                                                                                                                                                                                                                                                                                                                                                                                                                                                                                                                                                                                                                                                                                                                                                                                                                                                                                                                                                                                                                                                                                                                                                                                                                                                                                                                                                                                                                                                                                                                                                                                                                                                                                                                                                                                                                                                                                                                                                                                                                                                                                                                                                                                                                                                                                        1\n",
            "From: chrstie@ccu.umanitoba.ca (William John M. Christie)\\nSubject: Re: Joystick suggestions?\\nNntp-Posting-Host: varley.cc.umanitoba.ca\\nOrganization: University of Manitoba, Winnipeg, Canada\\nLines: 31\\n\\n\\nIt depends on what you'd like your joystick for.  I've seen Gravis\\njoysticks at Radio Shack.  They seemed flimsy and didn't fit well in my\\nhand.  I have heard on c.s.i.p.games that they don't last well (less than\\na year) on flightsims.  One redeeming feature does seem to be the ability\\nto adjust the tension of the stick.\\n\\nI recently purchased a CH Flightstick.  There aren't any suction cups and\\nno tension adjusters but otherwise it seems to be an excellent joystick. \\nI'm currently using it for the Wing Commander series and Red Baron.  Works\\nquite well.  The large base does not require a steadying hand and so\\nleaves it free.  The buttons provide good tactile response (you can hear\\nand feel them well).  There are other models made by CH that can go up or\\ndown in features.\\n\\nFor price comparison Gravis analogue joysticks sell for ~$35.00 here\\ncompared to the $45.00 I paid for a CH Flightstick.  I think the extra\\n$10.00 is worth it just in feel.  Best thing to do is to ask a salesperson\\nto let you try them out or at least feel it before you buy.\\n\\nJust another note, analogue joysticks are best for flightsims or something\\nthat needs sensitive touch.  If you're only playing games such as Castle\\nWolfenstein or some other game that only uses digital input (ie. only up,\\ndown, left, etc. instead of 'how much right') you might want to look into\\na Gravis gamepad.  They look like a Nintendo control pad but I don't know\\nmuch beyond that.\\n-- \\n     Will Christie       |    AATCHOO!      | PHILOSOPHY: the principles and \\n University of Manitoba  |    Uh-oh...      |  science of thought and reality\\n  Winnipeg, MB, Canada   |   I'm leaking    | PHILOSOPHER: someone who thinks\\nchrstie@ccu.UManitoba.CA | brain lubricant. |  they're useful to society\\n                                                                                                                                                                                                                                                                                                                                                                                                                                                                                                                                                                                                                                                                                                                                                                                                                                                                                                                                                                                                                                                                                                                                                                                                                                                                                                                                                                                                                                                                                                                                                                                                                                                                                                                                                                                                                                                                                                                                                                                                                                                                                                                                                                                                                                                                                                                                                                                                                                                                                                                                                                                                                                                                                                                                                                                                                                                                                                                                                                                                                                                                                                                                                                                                                                                                                                                                                                                                                                                                                                                                                                                                                                                                                                                                                                                                                                                                                                                                                                                                                                                                                                                                                                                                                                                                                                                                                                                                                                                                                                                                                                                                                                                                                                                                                                                                                                                                                                                                                                                                                                                                                                                                                               1\n",
            "From: ianchan@leland.Stanford.EDU (Ian Hin Yun Chan)\\nSubject: Need help on...\\nOrganization: DSG, Stanford University, CA 94305, USA\\nLines: 24\\n\\nI need help on 4 components:\\n\\nBAT85 diode\\n-----------\\nI know Digi-key or Newark sells them, but the minimum order is 25!\\nDoes anyone know where I can get smaller orders of this diode, or\\nan equivalent replacement?\\n\\nBC546B transistor\\n-----------------\\nDitto for this transistor.\\n\\n74HC239 chip\\n------------\\nDigi-key, Newark and Mouser do not appear to carry ths chip - does anyone\\nknow what this does and where I can obtain it?\\n\\nYM3623B chip\\n------------\\nThis Yamaha chip decodes S/PDIF data (from CD or DAT). Where can I obtain\\none of these?\\n\\nThanks in advance,\\n- Ian\\n                                                                                                                                                                                                                                                                                                                                                                                                                                                                                                                                                                                                                                                                                                                                                                                                                                                                                                                                                                                                                                                                                                                                                                                                                                                                                                                                                                                                                                                                                                                                                                                                                                                                                                                                                                                                                                                                                                                                                                                                                                                                                                                                                                                                                                                                                                                                                                                                                                                                                                                                                                                                                                                                                                                                                                                                                                                                                                                                                                                                                                                                                                                                                                                                                                                                                                                                                                                                                                                                                                                                                                                                                                                                                                                                                                                                                                                                                                                                                                                                                                                                                                                                                                                                                                                                                                                                                                                                                                                                                                                                                                                                                                                                                                                                                                                                                                                                                                                                                                                                                                                                                                                                                                                                                                                                                                                                                                                                                                                                                                                                                                                                                                                                                                                                                                                                                                                                                                                                                                                                                                                                                                                                                                                                                                                                                                                                                                                                                                                                        1\n",
            "From: jburrill@boi.hp.com (Jim Burrill)\\nSubject: Question about Islamic view   \\nOrganization: Idaho River Country, The Salmon, Payette, Clearwater, Boise, Selway, Priest.\\nX-Newsreader: TIN [version 1.1.8 PL6]\\nLines: 8\\n\\nA question regarding the Islamic view towards homosexuality came up in a\\ndiscussion group that I participate in, and I'd like to ask the question here,\\n\\n\"What is the Islamic view towards homosexuality?\"             \\n\\nJim Burrill\\njburrill@boi.hp.com\\n\\n                                                                                                                                                                                                                                                                                                                                                                                                                                                                                                                                                                                                                                                                                                                                                                                                                                                                                                                                                                                                                                                                                                                                                                                                                                                                                                                                                                                                                                                                                                                                                                                                                                                                                                                                                                                                                                                                                                                                                                                                                                                                                                                                                                                                                                                                                                                                                                                                                                                                                                                                                                                                                                                                                                                                                                                                                                                                                                                                                                                                                                                                                                                                                                                                                                                                                                                                                                                                                                                                                                                                                                                                                                                                                                                                                                                                                                                                                                                                                                                                                                                                                                                                                                                                                                                                                                                                                                                                                                                                                                                                                                                                                                                                                                                                                                                                                                                                                                                                                                                                                                                                                                                                                                                                                                                                                                                                                                                                                                                                                                                                                                                                                                                                                                                                                                                                                                                                                                                                                                                                                                                                                                                                                                                                                                                                                                                                                                                                                                                                                                                                                                                                                                                                                                                                        1\n",
            "From: vic@mmalt.guild.org (Vic Kulikauskas)\\nSubject: Eternity of Hell (was Re: Hell)\\nOrganization: Kulikauskas home\\nLines: 11\\n\\nOur Moderator writes:\\n\\n> I'm inclined to read descriptions such as the lake of fire as \\n> indicating annihilation. However that's a minority view.\\n...\\n> It's my personal view, but the only denominations I know of that hold \\n> it officially are the JW's and SDA's.\\n\\nI can't find the reference right now, but didn't C.S.Lewis speculate \\nsomewhere that hell might be \"the state of once having been a human \\nsoul\"?\\n                                                                                                                                                                                                                                                                                                                                                                                                                                                                                                                                                                                                                                                                                                                                                                                                                                                                                                                                                                                                                                                                                                                                                                                                                                                                                                                                                                                                                                                                                                                                                                                                                                                                                                                                                                                                                                                                                                                                                                                                                                                                                                                                                                                                                                                                                                                                                                                                                                                                                                                                                                                                                                                                                                                                                                                                                                                                                                                                                                                                                                                                                                                                                                                                                                                                                                                                                                                                                                                                                                                                                                                                                                                                                                                                                                                                                                                                                                                                                                                                                                                                                                                                                                                                                                                                                                                                                                                                                                                                                                                                                                                                                                                                                                                                                                                                                                                                                                                                                                                                                                                                                                                                                                                                                                                                                                                                                                                                                                                                                                                                                                                                                                                                                                                                                                                                                                                                                                                                                                                                                                                                                                                                                                                                                                                                                                                                                                                                                                                                                                                                                                                                                                                                 1\n",
            "                                                                                                                                                                                                                                                                                                                                                                                                                                                                                                                                                                                                                                                                                                                                                                                                                                                                                                                                                                                                                                                                                                                                                                                                                                                                                                                                                                                                                                                                                                                                                                                                                                                                                                                                                                                                                                                                                                                                                                                                                                                                                                                                                                                                                                                                                                                                                                                                                                                                                                                                                                                                                                                                                                                                                                                                                                                                                                                                                                                                                                                                                                                                                                                                                                                                                                                                                                                                                                                                                                                                                                                                                                                                                                                                                                                                                                                                                                                                                                                                                                                                                                                                                                                                                                                                                                                                                                                                                                                                                                                                                                                                                                                                                                                                                                                                                                                                                                                                                                                                                                                                                                                                                                                                                                                                                                                                                                                                                                                                                                                                                                                                                                                                                                                                                                                                                                                                                                                                                                                                                                                                                                                                                                                                                                                                                                                                                                                                                                                                                                                                                                                                                                                                                                                                                                                                                                                                                                                                                                                                                                                                                                                                                                                                                                          ..\n",
            "From: mikec@sail.LABS.TEK.COM (Micheal Cranford)\\nSubject: Disney Animation\\nOrganization: Tektronix, Inc., Beaverton,  OR.\\nLines: 5\\n\\n------------------------------------\\n\\n  Can anyone tell me anything about the Disney Animation software package?\\nNote the followup line (this is not for me but for a colleague).\\n\\n                                                                                                                                                                                                                                                                                                                                                                                                                                                                                                                                                                                                                                                                                                                                                                                                                                                                                                                                                                                                                                                                                                                                                                                                                                                                                                                                                                                                                                                                                                                                                                                                                                                                                                                                                                                                                                                                                                                                                                                                                                                                                                                                                                                                                                                                                                                                                                                                                                                                                                                                                                                                                                                                                                                                                                                                                                                                                                                                                                                                                                                                                                                                                                                                                                                                                                                                                                                                                                                                                                                                                                                                                                                                                                                                                                                                                                                                                                                                                                                                                                                                                                                                                                                                                                                                                                                                                                                                                                                                                                                                                                                                                                                                                                                                                                                                                                                                                                                                                                                                                                                                                                                                                                                                                                                                                                                                                                                                                                                                                                                                                                                                                                                                                                                                                                                                                                                                                                                                                                                                                                                                                                                                                                                                                                                                                                                                                                                                                                                                                                                                                                                                                                                                                                                                                                                                                                                                                                          1\n",
            "From: brucek@Ingres.COM (Bruce Kleinman)\\nSubject: Re: Best record ever in baseball\\nArticle-I.D.: pony.1993Apr6.195932.20451\\nDistribution: usa\\nOrganization: Ingres Corporation, A subsidiary of The ASK Group, Inc.\\nLines: 5\\n\\nIn article <1psl0jINNam3@jhunix.hcf.jhu.edu> admiral@jhunix.hcf.jhu.edu (Steve C Liu) writes:\\n>Of all teams, I believe the Cubs have the best record ever in baseball.\\n>Sometime way far back. 110+ and something.\\n\\nI think it was the 1954 Cleveland Indians with 111.\\n                                                                                                                                                                                                                                                                                                                                                                                                                                                                                                                                                                                                                                                                                                                                                                                                                                                                                                                                                                                                                                                                                                                                                                                                                                                                                                                                                                                                                                                                                                                                                                                                                                                                                                                                                                                                                                                                                                                                                                                                                                                                                                                                                                                                                                                                                                                                                                                                                                                                                                                                                                                                                                                                                                                                                                                                                                                                                                                                                                                                                                                                                                                                                                                                                                                                                                                                                                                                                                                                                                                                                                                                                                                                                                                                                                                                                                                                                                                                                                                                                                                                                                                                                                                                                                                                                                                                                                                                                                                                                                                                                                                                                                                                                                                                                                                                                                                                                                                                                                                                                                                                                                                                                                                                                                                                                                                                                                                                                                                                                                                                                                                                                                                                                                                                                                                                                                                                                                                                                                                                                                                                                                                                                                                                                                                                                                                                                                                                                                                                                                                                                                                                                                                                                                                         1\n",
            "From: Sang-Yoon Oh <so0z+@andrew.cmu.edu>\\nSubject: Re: Jeep Grand vs. Toyota 4-Runner\\nOrganization: Junior, Mechanical Engineering, Carnegie Mellon, Pittsburgh, PA\\nLines: 29\\n\\t<C51Hn0.2JI@world.std.com>\\nNNTP-Posting-Host: po2.andrew.cmu.edu\\nIn-Reply-To: <C51Hn0.2JI@world.std.com>\\n\\n>In article <1pq29p$29p@seven-up.East.Sun.COM>\\njfox@hooksett.East.Sun.COM >writes:\\n>>\\n>>Any reason you are limited to the two mentioned? They aren't really at\\n>>the same point along the SUV spectrum - not to mention price range.\\n>>How about the Explorer, Trooper, Blazer, Montero, and if the budget\\n>>allows, the Land Cruiser? \\n> \\n>Any advice on HOW to buy a Land Cruiser? My local Toyota dealer says they\\n>get two a year, and if I want one I can just get on the waiting list.\\n>Forget about a test drive or even kicking the tires.\\n>And if they are that rare, I doubt there is much of a parts inventory on\\nhand.\\n\\nLand Crusier is just simply nice with shit-load of power and room.\\nFully stocked, it cost ~$40,000.  I think it is worth the money.\\nOnly problem is when you get into accident(it doesn't usually break down\\nunless you forget to get a oil change for 30000 miles or something\\nstupid like this), body parts and other parts are very hard to locate. \\nParts are over priced also.  One of my friend had accident in past snow\\nstorm and he is still waiting for front bumper and passenger side fender.\\n\\nWell, if you test drive Land Cruiser, all other SUV look like toys.\\nOne of magazine writer called it \"Land Bruiser\".  \\n\\nIf you have $40,000 to spare for SUV, get Land Cruiser and forget Lange Rover.\\n\\n--Sang\\n\\n                                                                                                                                                                                                                                                                                                                                                                                                                                                                                                                                                                                                                                                                                                                                                                                                                                                                                                                                                                                                                                                                                                                                                                                                                                                                                                                                                                                                                                                                                                                                                                                                                                                                                                                                                                                                                                                                                                                                                                                                                                                                                                                                                                                                                                                                                                                                                                                                                                                                                                                                                                                                                                                                                                                                                                                                                                                                                                                                                                                                                                                                                                                                                                                                                                                                                                                                                                                                                                                                                                                                                                                                                                                                                                                                                                                                                                                                                                                                                                                                                                                                                                                                                                                                                                                                                                                                                                                                                                                                                                                                                                                                                                                                                                                                                                                                                                                                                                                                                                                                                                                                                                                                                                                                                                                                                                                                                                                                                                                                                                                                             1\n",
            "From: dcoleman@utxvms.cc.utexas.edu (Daniel M. Coleman)\\nSubject: Re: MathCad 4.0 swap file\\nLines: 28\\nNntp-Posting-Host: blonde.cc.utexas.edu\\nOrganization: The University of Texas at Austin\\nLines: 28\\n\\nIn article <1993Apr20.175608.23949@ncar.ucar.edu>, baseball@catch-the-fever.scd.ucar.edu (Gregg Walters) writes:\\n> I have 16MB of memory on my 386SX.  I have been running Windows\\n> without a swap file for several months.  Will Mathcad 4.0 be\\n> happy with this, or insist on a swap file?\\n\\nI just got Mathcad 4.0, and the manual is not clear on the matter.  On page 8:\\n\\n\\t:\\n\\t:\\n\\n* At least 4 megabytes of memory.  All memory about 640K should be configured\\n  as XMS.\\n\\n\\t:\\n\\t:\\n* At least 8 megabytes of virtual memory....\\n\\nCommon sense suggests that you should be able to run it (4+8=12 < 16) but the\\nnew Mathcad is kinda kooky, and thus is not subject to the laws of common\\nsense...\\n\\nDan\\n\\n-- \\nDaniel Matthew Coleman\\t\\t   |   Internet: dcoleman@utxvms.cc.utexas.edu\\n-----------------------------------+---------- : dcoleman@ccwf.cc.utexas.edu\\nThe University of Texas at Austin  |\\t DECnet: UTXVMS::DCOLEMAN\\nElectrical/Computer Engineering\\t   |\\t BITNET: DCOLEMAN@UTXVMS [.BITNET]\\n                                                                                                                                                                                                                                                                                                                                                                                                                                                                                                                                                                                                                                                                                                                                                                                                                                                                                                                                                                                                                                                                                                                                                                                                                                                                                                                                                                                                                                                                                                                                                                                                                                                                                                                                                                                                                                                                                                                                                                                                                                                                                                                                                                                                                                                                                                                                                                                                                                                                                                                                                                                                                                                                                                                                                                                                                                                                                                                                                                                                                                                                                                                                                                                                                                                                                                                                                                                                                                                                                                                                                                                                                                                                                                                                                                                                                                                                                                                                                                                                                                                                                                                                                                                                                                                                                                                                                                                                                                                                                                                                                                                                                                                                                                                                                                                                                                                                                                                                                                                                                                                                                                                                                                                                                                                                                                                                                                                                                                                                                                                                                                                                                                                                                                                                                                                                                                                                                                                                                                             1\n",
            "Subject: NHL Summary parse results for games played Sun, April 4, 1993\\nFrom: c5ff@jupiter.sun.csd.unb.ca (COOK  Charlie)\\nOrganization: University of New Brunswick\\nLines: 210\\n\\nNY Rangers                       3 1 0--4\\nWashington                       0 0 0--0\\nFirst period\\n     1, NY Rangers, Graves 33 (Turcotte, Lowe) 9:13.\\n     2, NY Rangers, Gartner 44 (Messier) 11:21.\\n     3, NY Rangers, Olczyk 21 (Messier, Amonte) 14:57.\\nSecond period\\n     4, NY Rangers, Beukeboom 2 (unassisted) 3:30.\\nThird period\\n     No scoring.\\n\\nNY Rangers: 4    Power play: 4-0\\nScorer            G    A   Pts\\n---------------  ---  ---  ---\\nAmonte             0    1    1\\nBeukeboom          1    0    1\\nGartner            1    0    1\\nGraves             1    0    1\\nLowe               0    1    1\\nMessier            0    2    2\\nOlczyk             1    0    1\\nTurcotte           0    1    1\\n\\nWashington: 0    Power play: 3-0\\nNo scoring\\n\\n-----------------------------------------\\nBoston                           0 2 1--3\\nBuffalo                          0 0 0--0\\nFirst period\\n     No scoring.\\nSecond period\\n     1, Boston, Leach 24 (Wesley, Oates) pp, 1:03.\\n     2, Boston, Oates 44 (Douris, Poulin) 9:00.\\nThird period\\n     3, Boston, Douris 4 (Bourque) sh, 0:55.\\n\\nBoston: 3    Power play: 5-1   Special goals:  pp: 1  sh: 1  Total: 2\\nScorer            G    A   Pts\\n---------------  ---  ---  ---\\nBourque            0    1    1\\nDouris             1    1    2\\nLeach              1    0    1\\nOates              1    1    2\\nPoulin             0    1    1\\nWesley             0    1    1\\n\\nBuffalo: 0    Power play: 6-0\\nNo scoring\\n\\n-----------------------------------------\\nPittsburgh                       1 3 1--5\\nNew Jersey                       0 1 1--2\\nFirst period\\n     1, Pittsburgh, Francis 23 (Lemieux, Tocchet) pp, 13:25.\\nSecond period\\n     2, Pittsburgh, Murphy 21 (Francis, Mullen) sh, 0:38.\\n     3, Pittsburgh, Francis 24 (Tocchet, Lemieux) pp, 7:14.\\n     4, Pittsburgh, Jagr 33 (Tocchet, Francis) pp, 15:22.\\n     5, New Jersey, Zelepukin 17 (Driver, Lemieux) pp, 19:07.\\nThird period\\n     6, New Jersey, MacLean 23 (Nicholls, Stevens) 6:45.\\n     7, Pittsburgh, Lemieux 62 (Jagr) en, 19:51.\\n\\nPittsburgh: 5    Power play: 9-3   Special goals:  pp: 3  sh: 1  en: 1  Total: 5\\nScorer            G    A   Pts\\n---------------  ---  ---  ---\\nFrancis            2    2    4\\nJagr               1    1    2\\nLemieux            1    2    3\\nMullen             0    1    1\\nMurphy             1    0    1\\nTocchet            0    3    3\\n\\nNew Jersey: 2    Power play: 9-1\\nScorer            G    A   Pts\\n---------------  ---  ---  ---\\nDriver             0    1    1\\nLemieux            0    1    1\\nMacLean            1    0    1\\nNicholls           0    1    1\\nStevens            0    1    1\\nZelepukin          1    0    1\\n\\n-----------------------------------------\\nToronto                          0 0 0--0\\nPhiladelphia                     2 1 1--4\\nFirst period\\n     1, Philadelphia, Dineen 31 (Beranek, Hawgood) 8:10.\\n     2, Philadelphia, McGill 3 (Lindros, Recchi) 19:55.\\nSecond period\\n     3, Philadelphia, Lindros 38 (Recchi, Galley) 7:55.\\nThird period\\n     4, Philadelphia, Dineen 32 (Hawgood, Galley) pp, 18:39.\\n\\nPhiladelphia: 4    Power play: 4-1\\nScorer            G    A   Pts\\n---------------  ---  ---  ---\\nBeranek            0    1    1\\nDineen             2    0    2\\nGalley             0    2    2\\nHawgood            0    2    2\\nLindros            1    1    2\\nMcGill             1    0    1\\nRecchi             0    2    2\\n\\nToronto: 0    Power play: 6-0\\nNo scoring\\n\\n-----------------------------------------\\nVancouver                        0 2 1--3\\nOttawa                           0 0 0--0\\nFirst period\\n     No scoring.\\nSecond period\\n     1, Vancouver, Plavsic 6 (Craven) 13:05.\\n     2, Vancouver, Momesso 17 (Nedved, Plavsic) pp, 15:52.\\nThird period\\n     3, Vancouver, Bure 57 (unassisted) 13:27.\\n\\nVancouver: 3    Power play: 4-1\\nScorer            G    A   Pts\\n---------------  ---  ---  ---\\nBure               1    0    1\\nCraven             0    1    1\\nMomesso            1    0    1\\nNedved             0    1    1\\nPlavsic            1    1    2\\n\\nOttawa: 0    Power play: 5-0\\nNo scoring\\n\\n-----------------------------------------\\nSt. Louis                        2 0 2--4\\nChicago                          4 0 1--5\\nFirst period\\n     1, Chicago, Sutter 18 (Murphy, Chelios) pp, 1:08.\\n     2, St. Louis, Janney 20 (Shanahan, J.Brown) pp, 6:49.\\n     3, Chicago, Roenick 44 (Chelios, Smith) pp, 8:20.\\n     4, Chicago, Roenick 45 (Sutter, Chelios) pp, 13:14.\\n     5, Chicago, Graham 19 (Gilbert, Ruuttu) 13:42.\\n     6, St. Louis, Janney 21 (Shanahan, Crossman) 19:38.\\nSecond period\\n     No scoring.\\nThird period\\n     7, Chicago, Murphy 5 (Chelios, Belfour) 0:20.\\n     8, St. Louis, Miller 21 (Hull, Janney) pp, 7:04.\\n     9, St. Louis, Janney 22 (Miller, Shanahan) 19:32.\\n\\nChicago: 5    Power play: 8-3\\nScorer            G    A   Pts\\n---------------  ---  ---  ---\\nBelfour            0    1    1\\nChelios            0    4    4\\nGilbert            0    1    1\\nGraham             1    0    1\\nMurphy             1    1    2\\nRoenick            2    0    2\\nRuuttu             0    1    1\\nSmith              0    1    1\\nSutter             1    1    2\\n\\nSt. Louis: 4    Power play: 4-2\\nScorer            G    A   Pts\\n---------------  ---  ---  ---\\nBrown J            0    1    1\\nCrossman           0    1    1\\nHull               0    1    1\\nJanney             3    1    4\\nMiller             1    1    2\\nShanahan           0    3    3\\n\\n-----------------------------------------\\nCalgary                          1 2 1--4\\nSan Jose                         1 0 2--3\\nFirst period\\n     1, Calgary, Otto 19 (Yawney, Ashton) pp, 5:29.\\n     2, San Jose, Odgers 10 (Pederson, Wilkinson) 18:33.\\nSecond period\\n     3, Calgary, Nieuwendyk 34 (Johansson, Reese) 2:03.\\n     4, Calgary, Reichel 35 (Skrudland, Berube) 12:22.\\nThird period\\n     5, Calgary, Ashton 7 (Otto, Fleury) 1:30.\\n     6, San Jose, Pederson 9 (Odgers, Evason) 2:24.\\n     7, San Jose, Odgers 11 (Gaudreau, Evason) pp, 19:30.\\n\\nCalgary: 4    Power play: 5-1\\nScorer            G    A   Pts\\n---------------  ---  ---  ---\\nAshton             1    1    2\\nBerube             0    1    1\\nFleury             0    1    1\\nJohansson          0    1    1\\nNieuwendyk         1    0    1\\nOtto               1    1    2\\nReese              0    1    1\\nReichel            1    0    1\\nSkrudland          0    1    1\\nYawney             0    1    1\\n\\nSan Jose: 3    Power play: 5-1\\nScorer            G    A   Pts\\n---------------  ---  ---  ---\\nEvason             0    2    2\\nGaudreau           0    1    1\\nOdgers             2    1    3\\nPederson           1    1    2\\nWilkinson          0    1    1\\n\\n-----------------------------------------\\n    1\n",
            "Name: content, Length: 11314, dtype: int64 \n",
            " \n",
            "\n",
            "10    600\n",
            "15    599\n",
            "8     598\n",
            "9     597\n",
            "11    595\n",
            "13    594\n",
            "7     594\n",
            "14    593\n",
            "5     593\n",
            "12    591\n",
            "2     591\n",
            "3     590\n",
            "6     585\n",
            "1     584\n",
            "4     578\n",
            "17    564\n",
            "16    546\n",
            "0     480\n",
            "18    465\n",
            "19    377\n",
            "Name: target, dtype: int64 \n",
            " \n",
            "\n"
          ],
          "name": "stdout"
        },
        {
          "output_type": "execute_result",
          "data": {
            "text/plain": [
              "rec.sport.hockey            600\n",
              "soc.religion.christian      599\n",
              "rec.motorcycles             598\n",
              "rec.sport.baseball          597\n",
              "sci.crypt                   595\n",
              "sci.med                     594\n",
              "rec.autos                   594\n",
              "comp.windows.x              593\n",
              "sci.space                   593\n",
              "sci.electronics             591\n",
              "comp.os.ms-windows.misc     591\n",
              "comp.sys.ibm.pc.hardware    590\n",
              "misc.forsale                585\n",
              "comp.graphics               584\n",
              "comp.sys.mac.hardware       578\n",
              "talk.politics.mideast       564\n",
              "talk.politics.guns          546\n",
              "alt.atheism                 480\n",
              "talk.politics.misc          465\n",
              "talk.religion.misc          377\n",
              "Name: target_names, dtype: int64"
            ]
          },
          "metadata": {
            "tags": []
          },
          "execution_count": 59
        }
      ]
    },
    {
      "cell_type": "code",
      "metadata": {
        "colab": {
          "base_uri": "https://localhost:8080/",
          "height": 103
        },
        "id": "NqdRb7Fi57ox",
        "outputId": "a6c7fab0-10ea-424c-d08a-aeea96709329"
      },
      "source": [
        "# Print the first content value. \n",
        "df['content'].iloc[0]\n",
        "# Does it match the target name?    YES\n",
        "# Which business question can this dataset address?:   The dataset addresses businesses in the field of sports, science, computing, society, not sure, etc."
      ],
      "execution_count": null,
      "outputs": [
        {
          "output_type": "execute_result",
          "data": {
            "application/vnd.google.colaboratory.intrinsic+json": {
              "type": "string"
            },
            "text/plain": [
              "\"From: lerxst@wam.umd.edu (where's my thing)\\nSubject: WHAT car is this!?\\nNntp-Posting-Host: rac3.wam.umd.edu\\nOrganization: University of Maryland, College Park\\nLines: 15\\n\\n I was wondering if anyone out there could enlighten me on this car I saw\\nthe other day. It was a 2-door sports car, looked to be from the late 60s/\\nearly 70s. It was called a Bricklin. The doors were really small. In addition,\\nthe front bumper was separate from the rest of the body. This is \\nall I know. If anyone can tellme a model name, engine specs, years\\nof production, where this car is made, history, or whatever info you\\nhave on this funky looking car, please e-mail.\\n\\nThanks,\\n- IL\\n   ---- brought to you by your neighborhood Lerxst ----\\n\\n\\n\\n\\n\""
            ]
          },
          "metadata": {
            "tags": []
          },
          "execution_count": 60
        }
      ]
    },
    {
      "cell_type": "code",
      "metadata": {
        "colab": {
          "base_uri": "https://localhost:8080/",
          "height": 69
        },
        "id": "vL4uzWr57U_T",
        "outputId": "eedaf121-682a-445f-a492-f9b5a89fed5b"
      },
      "source": [
        "# Remove the lines beginning with any of the following: \n",
        "# ‘From:’, ‘Article-I.D.:’, ‘Organization:’, ‘Lines:’, ‘NNTP-Posting-Host:’, ‘Distribution:’, ‘Reply-To:’, ‘X-Newsreader:’, ‘Expires:’, multiples (also one) of ‘-‘ preceded by space using the package re. \n",
        "# Remove additionally any of the words ‘Subject:’, ‘Summary:’ or ‘Keywords:’. \n",
        "x = df['content'].iloc[0]\n",
        "y = '((?m)^(From:|Article-I.D.|Organization:|Lines:|NNTP-Posting-Host:|Distribution:|Reply-To:|X-Newsreader:|Expires:|\\s*-).*\\n)|(Subject:|Summary:|Keywords:)'\n",
        "z = re.sub(y,'',x, flags=re.I)\n",
        "z\n",
        "# Why are we doing this?"
      ],
      "execution_count": null,
      "outputs": [
        {
          "output_type": "execute_result",
          "data": {
            "application/vnd.google.colaboratory.intrinsic+json": {
              "type": "string"
            },
            "text/plain": [
              "' WHAT car is this!?\\n\\n I was wondering if anyone out there could enlighten me on this car I saw\\nthe other day. It was a 2-door sports car, looked to be from the late 60s/\\nearly 70s. It was called a Bricklin. The doors were really small. In addition,\\nthe front bumper was separate from the rest of the body. This is \\nall I know. If anyone can tellme a model name, engine specs, years\\nof production, where this car is made, history, or whatever info you\\nhave on this funky looking car, please e-mail.\\n\\nThanks,\\n\\n\\n\\n\\n'"
            ]
          },
          "metadata": {
            "tags": []
          },
          "execution_count": 61
        }
      ]
    },
    {
      "cell_type": "code",
      "metadata": {
        "id": "vB8dcrwDNHvk"
      },
      "source": [
        "# Both removals should be case insensitive. Call the new object data which is your corpus and display the first entry. \n",
        "N = [re.sub(y,'',c, flags=re.IGNORECASE) for c in df.content]"
      ],
      "execution_count": null,
      "outputs": []
    },
    {
      "cell_type": "code",
      "metadata": {
        "id": "a8W6Ua6zlsi0"
      },
      "source": [
        "#Apply strip_numeric, strip_punctuation and strip_multiple_whitespaces to data and override it. \n",
        "data = [strip_numeric(c) for c in N]\n",
        "data = [strip_punctuation(c) for c in data]\n",
        "data = [strip_multiple_whitespaces(c) for c in data]\n",
        "\n",
        "#Transform all letters to lower case ones and override data with the result (Hint: Use string.lower()).\n",
        "data = [c.lower() for c in data]\n",
        "\n",
        "#What are those functions doing and why?\n",
        "#strip_numeric:\n",
        "#strip_punctuation:\n",
        "#strip_multiple_whitespaces\n"
      ],
      "execution_count": null,
      "outputs": []
    },
    {
      "cell_type": "code",
      "metadata": {
        "colab": {
          "base_uri": "https://localhost:8080/"
        },
        "id": "WC7b_VnFMCv9",
        "outputId": "df09b930-2bc2-4281-c4c9-10edc98b5e81"
      },
      "source": [
        "#Print both the stopwords in gensim and those in nltk. Do you see a difference? Hint: it may make sense to sort the objects beforehand.\n",
        "stopWords = set(stopwords.words('english'))\n",
        "stopwords"
      ],
      "execution_count": null,
      "outputs": [
        {
          "output_type": "execute_result",
          "data": {
            "text/plain": [
              "<WordListCorpusReader in '/root/nltk_data/corpora/stopwords'>"
            ]
          },
          "metadata": {
            "tags": []
          },
          "execution_count": 64
        }
      ]
    },
    {
      "cell_type": "code",
      "metadata": {
        "colab": {
          "base_uri": "https://localhost:8080/"
        },
        "id": "29nZI0v-KObH",
        "outputId": "3a9e3bd6-1e87-4783-ba22-c3b629328194"
      },
      "source": [
        "STOPWORDS"
      ],
      "execution_count": null,
      "outputs": [
        {
          "output_type": "execute_result",
          "data": {
            "text/plain": [
              "frozenset({'a',\n",
              "           'about',\n",
              "           'above',\n",
              "           'across',\n",
              "           'after',\n",
              "           'afterwards',\n",
              "           'again',\n",
              "           'against',\n",
              "           'all',\n",
              "           'almost',\n",
              "           'alone',\n",
              "           'along',\n",
              "           'already',\n",
              "           'also',\n",
              "           'although',\n",
              "           'always',\n",
              "           'am',\n",
              "           'among',\n",
              "           'amongst',\n",
              "           'amoungst',\n",
              "           'amount',\n",
              "           'an',\n",
              "           'and',\n",
              "           'another',\n",
              "           'any',\n",
              "           'anyhow',\n",
              "           'anyone',\n",
              "           'anything',\n",
              "           'anyway',\n",
              "           'anywhere',\n",
              "           'are',\n",
              "           'around',\n",
              "           'as',\n",
              "           'at',\n",
              "           'back',\n",
              "           'be',\n",
              "           'became',\n",
              "           'because',\n",
              "           'become',\n",
              "           'becomes',\n",
              "           'becoming',\n",
              "           'been',\n",
              "           'before',\n",
              "           'beforehand',\n",
              "           'behind',\n",
              "           'being',\n",
              "           'below',\n",
              "           'beside',\n",
              "           'besides',\n",
              "           'between',\n",
              "           'beyond',\n",
              "           'bill',\n",
              "           'both',\n",
              "           'bottom',\n",
              "           'but',\n",
              "           'by',\n",
              "           'call',\n",
              "           'can',\n",
              "           'cannot',\n",
              "           'cant',\n",
              "           'co',\n",
              "           'computer',\n",
              "           'con',\n",
              "           'could',\n",
              "           'couldnt',\n",
              "           'cry',\n",
              "           'de',\n",
              "           'describe',\n",
              "           'detail',\n",
              "           'did',\n",
              "           'didn',\n",
              "           'do',\n",
              "           'does',\n",
              "           'doesn',\n",
              "           'doing',\n",
              "           'don',\n",
              "           'done',\n",
              "           'down',\n",
              "           'due',\n",
              "           'during',\n",
              "           'each',\n",
              "           'eg',\n",
              "           'eight',\n",
              "           'either',\n",
              "           'eleven',\n",
              "           'else',\n",
              "           'elsewhere',\n",
              "           'empty',\n",
              "           'enough',\n",
              "           'etc',\n",
              "           'even',\n",
              "           'ever',\n",
              "           'every',\n",
              "           'everyone',\n",
              "           'everything',\n",
              "           'everywhere',\n",
              "           'except',\n",
              "           'few',\n",
              "           'fifteen',\n",
              "           'fify',\n",
              "           'fill',\n",
              "           'find',\n",
              "           'fire',\n",
              "           'first',\n",
              "           'five',\n",
              "           'for',\n",
              "           'former',\n",
              "           'formerly',\n",
              "           'forty',\n",
              "           'found',\n",
              "           'four',\n",
              "           'from',\n",
              "           'front',\n",
              "           'full',\n",
              "           'further',\n",
              "           'get',\n",
              "           'give',\n",
              "           'go',\n",
              "           'had',\n",
              "           'has',\n",
              "           'hasnt',\n",
              "           'have',\n",
              "           'he',\n",
              "           'hence',\n",
              "           'her',\n",
              "           'here',\n",
              "           'hereafter',\n",
              "           'hereby',\n",
              "           'herein',\n",
              "           'hereupon',\n",
              "           'hers',\n",
              "           'herself',\n",
              "           'him',\n",
              "           'himself',\n",
              "           'his',\n",
              "           'how',\n",
              "           'however',\n",
              "           'hundred',\n",
              "           'i',\n",
              "           'ie',\n",
              "           'if',\n",
              "           'in',\n",
              "           'inc',\n",
              "           'indeed',\n",
              "           'interest',\n",
              "           'into',\n",
              "           'is',\n",
              "           'it',\n",
              "           'its',\n",
              "           'itself',\n",
              "           'just',\n",
              "           'keep',\n",
              "           'kg',\n",
              "           'km',\n",
              "           'last',\n",
              "           'latter',\n",
              "           'latterly',\n",
              "           'least',\n",
              "           'less',\n",
              "           'ltd',\n",
              "           'made',\n",
              "           'make',\n",
              "           'many',\n",
              "           'may',\n",
              "           'me',\n",
              "           'meanwhile',\n",
              "           'might',\n",
              "           'mill',\n",
              "           'mine',\n",
              "           'more',\n",
              "           'moreover',\n",
              "           'most',\n",
              "           'mostly',\n",
              "           'move',\n",
              "           'much',\n",
              "           'must',\n",
              "           'my',\n",
              "           'myself',\n",
              "           'name',\n",
              "           'namely',\n",
              "           'neither',\n",
              "           'never',\n",
              "           'nevertheless',\n",
              "           'next',\n",
              "           'nine',\n",
              "           'no',\n",
              "           'nobody',\n",
              "           'none',\n",
              "           'noone',\n",
              "           'nor',\n",
              "           'not',\n",
              "           'nothing',\n",
              "           'now',\n",
              "           'nowhere',\n",
              "           'of',\n",
              "           'off',\n",
              "           'often',\n",
              "           'on',\n",
              "           'once',\n",
              "           'one',\n",
              "           'only',\n",
              "           'onto',\n",
              "           'or',\n",
              "           'other',\n",
              "           'others',\n",
              "           'otherwise',\n",
              "           'our',\n",
              "           'ours',\n",
              "           'ourselves',\n",
              "           'out',\n",
              "           'over',\n",
              "           'own',\n",
              "           'part',\n",
              "           'per',\n",
              "           'perhaps',\n",
              "           'please',\n",
              "           'put',\n",
              "           'quite',\n",
              "           'rather',\n",
              "           're',\n",
              "           'really',\n",
              "           'regarding',\n",
              "           'same',\n",
              "           'say',\n",
              "           'see',\n",
              "           'seem',\n",
              "           'seemed',\n",
              "           'seeming',\n",
              "           'seems',\n",
              "           'serious',\n",
              "           'several',\n",
              "           'she',\n",
              "           'should',\n",
              "           'show',\n",
              "           'side',\n",
              "           'since',\n",
              "           'sincere',\n",
              "           'six',\n",
              "           'sixty',\n",
              "           'so',\n",
              "           'some',\n",
              "           'somehow',\n",
              "           'someone',\n",
              "           'something',\n",
              "           'sometime',\n",
              "           'sometimes',\n",
              "           'somewhere',\n",
              "           'still',\n",
              "           'such',\n",
              "           'system',\n",
              "           'take',\n",
              "           'ten',\n",
              "           'than',\n",
              "           'that',\n",
              "           'the',\n",
              "           'their',\n",
              "           'them',\n",
              "           'themselves',\n",
              "           'then',\n",
              "           'thence',\n",
              "           'there',\n",
              "           'thereafter',\n",
              "           'thereby',\n",
              "           'therefore',\n",
              "           'therein',\n",
              "           'thereupon',\n",
              "           'these',\n",
              "           'they',\n",
              "           'thick',\n",
              "           'thin',\n",
              "           'third',\n",
              "           'this',\n",
              "           'those',\n",
              "           'though',\n",
              "           'three',\n",
              "           'through',\n",
              "           'throughout',\n",
              "           'thru',\n",
              "           'thus',\n",
              "           'to',\n",
              "           'together',\n",
              "           'too',\n",
              "           'top',\n",
              "           'toward',\n",
              "           'towards',\n",
              "           'twelve',\n",
              "           'twenty',\n",
              "           'two',\n",
              "           'un',\n",
              "           'under',\n",
              "           'unless',\n",
              "           'until',\n",
              "           'up',\n",
              "           'upon',\n",
              "           'us',\n",
              "           'used',\n",
              "           'using',\n",
              "           'various',\n",
              "           'very',\n",
              "           'via',\n",
              "           'was',\n",
              "           'we',\n",
              "           'well',\n",
              "           'were',\n",
              "           'what',\n",
              "           'whatever',\n",
              "           'when',\n",
              "           'whence',\n",
              "           'whenever',\n",
              "           'where',\n",
              "           'whereafter',\n",
              "           'whereas',\n",
              "           'whereby',\n",
              "           'wherein',\n",
              "           'whereupon',\n",
              "           'wherever',\n",
              "           'whether',\n",
              "           'which',\n",
              "           'while',\n",
              "           'whither',\n",
              "           'who',\n",
              "           'whoever',\n",
              "           'whole',\n",
              "           'whom',\n",
              "           'whose',\n",
              "           'why',\n",
              "           'will',\n",
              "           'with',\n",
              "           'within',\n",
              "           'without',\n",
              "           'would',\n",
              "           'yet',\n",
              "           'you',\n",
              "           'your',\n",
              "           'yours',\n",
              "           'yourself',\n",
              "           'yourselves'})"
            ]
          },
          "metadata": {
            "tags": []
          },
          "execution_count": 65
        }
      ]
    },
    {
      "cell_type": "code",
      "metadata": {
        "id": "KxJqS1qBP0H6"
      },
      "source": [
        "#Remove the stopwords using gensim’s remove_stopwords and override data.\n",
        "data = [remove_stopwords(c) for c in data]\n",
        "\n",
        "#Apply strip_short to data. What is this function doing and why?\n",
        "data = [strip_short(c) for c in data]\n",
        "\n",
        "#Apply stem_text to data. What is this function doing and why?\n",
        "data_stem = [stem_text(c) for c in data]\n",
        "\n",
        "#Apply lemmatization with Spacy by:\n",
        "#a. Initializing spacy’s 'en' model with en_core_web_sm.load()\n",
        "nlp = en_core_web_sm.load()\n",
        "\n",
        "#b. Applying the model to the documents in data\n",
        "data_lem = [nlp(t) for t in data_stem]"
      ],
      "execution_count": null,
      "outputs": []
    },
    {
      "cell_type": "code",
      "metadata": {
        "id": "0qNzcMCuapnG"
      },
      "source": [
        "data_lemma = [\" \".join([token.lemma_ for token in t]) for t in data_lem]"
      ],
      "execution_count": null,
      "outputs": []
    },
    {
      "cell_type": "code",
      "metadata": {
        "colab": {
          "base_uri": "https://localhost:8080/"
        },
        "id": "S2JB67lzclDa",
        "outputId": "580c387a-f4dc-487b-db97-7ce91dece132"
      },
      "source": [
        "#Store both the stemmed and lemmatized data (your corpus) in Google Drive (you may wish to make an extra folder) using pickle.dump. Why does it make sense storing this data?\n",
        "from google.colab import drive\n",
        "drive.mount('/content/drive')\n",
        "\n",
        "pickle.dump(data_stem, open('/content/drive/MyDrive/stemmed.pkl', 'wb'))\n",
        "pickle.dump(data_lemma, open('/content/drive/MyDrive/lemma.pkl', 'wb'))"
      ],
      "execution_count": null,
      "outputs": [
        {
          "output_type": "stream",
          "text": [
            "Drive already mounted at /content/drive; to attempt to forcibly remount, call drive.mount(\"/content/drive\", force_remount=True).\n"
          ],
          "name": "stdout"
        }
      ]
    },
    {
      "cell_type": "code",
      "metadata": {
        "id": "PetM_dJMe1AL"
      },
      "source": [
        ""
      ],
      "execution_count": null,
      "outputs": []
    }
  ]
}